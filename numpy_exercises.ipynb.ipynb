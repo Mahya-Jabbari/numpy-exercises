{
 "cells": [
  {
   "cell_type": "markdown",
   "id": "d9458b5e-7955-4746-878d-deb6ec342a53",
   "metadata": {},
   "source": [
    "## 1. Median_Algorithm_Speed_Test ##"
   ]
  },
  {
   "cell_type": "code",
   "execution_count": 1,
   "id": "80355097-f10f-4f48-8d5b-69e12695bd73",
   "metadata": {},
   "outputs": [],
   "source": [
    "import numpy as np"
   ]
  },
  {
   "cell_type": "code",
   "execution_count": 2,
   "id": "11dda8dd-8a88-4d07-86e4-a3c5e81647eb",
   "metadata": {},
   "outputs": [],
   "source": [
    "np.random.seed(42)\n",
    "arr = np.random.randint(20, 61, size=100)"
   ]
  },
  {
   "cell_type": "code",
   "execution_count": 3,
   "id": "574895d7-2291-4613-b9e0-3deeff4aa28e",
   "metadata": {},
   "outputs": [],
   "source": [
    "def median_sorted(arr):\n",
    "    sorted_arr = sorted(arr)\n",
    "    n = len(sorted_arr)\n",
    "    mid = n // 2\n",
    "    if n % 2 == 1:\n",
    "        return sorted_arr[mid]\n",
    "    else:\n",
    "        return (sorted_arr[mid - 1] + sorted_arr[mid]) / 2"
   ]
  },
  {
   "cell_type": "code",
   "execution_count": 4,
   "id": "c54cafe0-dde9-4c9f-970c-3c47f7e41c56",
   "metadata": {},
   "outputs": [
    {
     "name": "stdout",
     "output_type": "stream",
     "text": [
      "39.5\n",
      "16.5 μs ± 632 ns per loop (mean ± std. dev. of 7 runs, 100,000 loops each)\n",
      "21 μs ± 1.33 μs per loop (mean ± std. dev. of 7 runs, 10,000 loops each)\n"
     ]
    }
   ],
   "source": [
    "print(np.median(arr))\n",
    "%timeit np.median(arr)\n",
    "%timeit median_sorted(arr)"
   ]
  },
  {
   "cell_type": "markdown",
   "id": "8145c0e2-053f-48dd-8984-127bd9fce4b0",
   "metadata": {},
   "source": [
    "*The median is 39.5, which means:\n",
    "Half of the data points are less than or equal to 39.5, and the other half are greater than or equal to 39.5.\n",
    "Since 39.5 is roughly in the middle of the range 20 to 60, it indicates that the data is fairly balanced and evenly spread, without a strong tendency towards lower or higher values.\n",
    "This suggests that the sample has a relatively uniform distribution within the selected range.*"
   ]
  },
  {
   "cell_type": "markdown",
   "id": "d67e721d-aa6a-4d90-9533-95c0eeab77f0",
   "metadata": {},
   "source": [
    "## 2. Dispersion_Analysis ##"
   ]
  },
  {
   "cell_type": "code",
   "execution_count": 5,
   "id": "81f6cb14-93fa-442e-8f2e-b380e8c9eb60",
   "metadata": {},
   "outputs": [],
   "source": [
    "import numpy as np\n",
    "import matplotlib.pyplot as plt"
   ]
  },
  {
   "cell_type": "code",
   "execution_count": 6,
   "id": "6abf584f-4384-4424-92d9-0d7d1a4063a7",
   "metadata": {},
   "outputs": [],
   "source": [
    "np.random.seed(42)\n",
    "group_A = np.random.normal(175, 5, 100)\n",
    "group_B = np.random.normal(170, 15, 100)"
   ]
  },
  {
   "cell_type": "code",
   "execution_count": 7,
   "id": "83243a98-18ed-47fa-bc2d-736c3eee737a",
   "metadata": {},
   "outputs": [
    {
     "name": "stdout",
     "output_type": "stream",
     "text": [
      "Group A: Mean = 174.48, Std Dev = 4.52\n",
      "Group B: Mean = 170.33, Std Dev = 14.23\n"
     ]
    }
   ],
   "source": [
    "mean_A = np.mean(group_A)\n",
    "std_A = np.std(group_A)\n",
    "\n",
    "mean_B = np.mean(group_B)\n",
    "std_B = np.std(group_B)\n",
    "\n",
    "print(f\"Group A: Mean = {mean_A:.2f}, Std Dev = {std_A:.2f}\")\n",
    "print(f\"Group B: Mean = {mean_B:.2f}, Std Dev = {std_B:.2f}\")"
   ]
  },
  {
   "cell_type": "code",
   "execution_count": 8,
   "id": "54d97fb8-e016-45a3-b686-4c447692a7f6",
   "metadata": {},
   "outputs": [
    {
     "data": {
      "image/png": "[encoded data removed]",
      "text/plain": [
       "<Figure size 640x480 with 1 Axes>"
      ]
     },
     "metadata": {},
     "output_type": "display_data"
    }
   ],
   "source": [
    "plt.boxplot([group_A, group_B], tick_labels=['Group A', 'Group B'])\n",
    "plt.title('Height Comparison Between Group A and Group B')\n",
    "plt.ylabel('Height')\n",
    "plt.show()"
   ]
  },
  {
   "cell_type": "markdown",
   "id": "9c01a55e-4618-45a2-9c50-fa81341a09bf",
   "metadata": {},
   "source": [
    "*Group B has more dispersion because its standard deviation is larger and its boxplot is wider. Group A consists of taller individuals with more less varied heights.. The average height is around 175 cm, and since the standard deviation is low, most individuals in Group A have heights close to this average. Group B consists of shorter individuals with a wider range of heights. The average height is around 170 cm, but the high standard deviation means there's a large variation in heights among individuals in Group B.*"
   ]
  },
  {
   "cell_type": "markdown",
   "id": "40a976cc-bc14-419b-9d68-bc103680b359",
   "metadata": {},
   "source": [
    "## 3. Outlier_Detection_Comparison ##"
   ]
  },
  {
   "cell_type": "code",
   "execution_count": 9,
   "id": "16e74233-2d87-40d7-a846-0366878c2b10",
   "metadata": {},
   "outputs": [],
   "source": [
    "import numpy as np"
   ]
  },
  {
   "cell_type": "code",
   "execution_count": 10,
   "id": "04e2f7fd-7d4c-4c3d-919d-b7eeb6b016ed",
   "metadata": {},
   "outputs": [],
   "source": [
    "data = np.array([12, 15, 14, 10, 13, 50, 14, 16, 15, 14, 13, 12, 14, 15, 11, 13, 14, 13, 12, 200])"
   ]
  },
  {
   "cell_type": "code",
   "execution_count": 11,
   "id": "83d9fac8-4bc1-46e4-a15d-84104564fa41",
   "metadata": {},
   "outputs": [],
   "source": [
    "mean_original = np.mean(data)\n",
    "median_original = np.median(data)\n",
    "std_original = np.std(data, ddof=1)"
   ]
  },
  {
   "cell_type": "code",
   "execution_count": 12,
   "id": "0979befc-04f6-4af0-93aa-55aac430317b",
   "metadata": {},
   "outputs": [],
   "source": [
    "# 3sigma\n",
    "lower_3sigma = mean_original  - 3*std_original\n",
    "upper_3sigma = mean_original  + 3*std_original\n",
    "outliers_3sigma = data[(data < lower_3sigma) | (data > upper_3sigma)]"
   ]
  },
  {
   "cell_type": "code",
   "execution_count": 13,
   "id": "0b1f1103-b814-4c06-b6c6-ea99150631f9",
   "metadata": {},
   "outputs": [],
   "source": [
    "# IQR\n",
    "Q1 = np.quantile(data, 0.25)\n",
    "Q3 = np.quantile(data, 0.75)\n",
    "IQR = Q3 - Q1\n",
    "lower_IQR = Q1 - 1.5 * IQR\n",
    "upper_IQR = Q3 + 1.5 * IQR\n",
    "outliers_IQR = data[(data < lower_IQR) | (data > upper_IQR)]"
   ]
  },
  {
   "cell_type": "code",
   "execution_count": 14,
   "id": "00e78ea6-f167-470d-8b1f-621f831d9629",
   "metadata": {},
   "outputs": [],
   "source": [
    "clean_3sigma = data[~((data < lower_3sigma) | (data > upper_3sigma))]\n",
    "mean_3sigma = np.mean(clean_3sigma)\n",
    "median_3sigma = np.median(clean_3sigma)\n",
    "\n",
    "clean_IQR = data[~((data < lower_IQR) | (data > upper_IQR))]\n",
    "mean_IQR = np.mean(clean_IQR)\n",
    "median_IQR = np.median(clean_IQR)"
   ]
  },
  {
   "cell_type": "code",
   "execution_count": 15,
   "id": "2add9d47-cb33-47a9-b9ee-4b46d9adab85",
   "metadata": {},
   "outputs": [
    {
     "name": "stdout",
     "output_type": "stream",
     "text": [
      "Original mean: 24.5\n",
      "Original median: 14.0\n",
      "Mean after removing 3-sigma outliers: 15.263157894736842\n",
      "Median after removing 3-sigma outliers: 14.0\n",
      "Mean after removing IQR outliers: 13.333333333333334\n",
      "Median after removing IQR outliers: 13.5\n"
     ]
    }
   ],
   "source": [
    "print(\"Original mean:\", mean_original)\n",
    "print(\"Original median:\", median_original)\n",
    "print(\"Mean after removing 3-sigma outliers:\", mean_3sigma)\n",
    "print(\"Median after removing 3-sigma outliers:\", median_3sigma)\n",
    "print(\"Mean after removing IQR outliers:\", mean_IQR)\n",
    "print(\"Median after removing IQR outliers:\", median_IQR)"
   ]
  },
  {
   "cell_type": "markdown",
   "id": "f80051cc-b002-4f55-bbbb-d84665b47d01",
   "metadata": {},
   "source": [
    "*The 3-sigma method detects outliers using the mean and standard deviation, assuming the data is normally distributed; any point more than 3 standard deviations away is considered an outlier. This works well for normal data but may miss outliers in skewed or non-normal distributions.\n",
    "The IQR method uses the range between the first and third quartiles to find outliers; points outside 1.5 times the IQR are outliers. This method doesn’t depend on the data distribution and works better for skewed or non-normal data, identifying outliers more accurately.*"
   ]
  },
  {
   "cell_type": "markdown",
   "id": "efb0fdda-93b1-42ea-bcc8-684450a19d66",
   "metadata": {},
   "source": [
    "*The median is just the middle value of the data and doesn’t depend on the exact values, so unlike the mean, which is calculated from all data points, it is less sensitive to outliers.*"
   ]
  },
  {
   "cell_type": "markdown",
   "id": "0630fdaa-f0a3-460d-97ad-036860252dc8",
   "metadata": {},
   "source": [
    "*The data contains two large outliers, 50 and 200, which stretch the distribution to the right and create positive skewness. These outliers pull the mean toward larger values, making it move away from the median. As a result, the distribution becomes asymmetric. Removing the outliers makes the distribution more balanced.*"
   ]
  },
  {
   "cell_type": "markdown",
   "id": "925de3b1-72e7-4868-8ffe-01d3b8270655",
   "metadata": {},
   "source": [
    "## 4. Correlation_Analysis ##"
   ]
  },
  {
   "cell_type": "code",
   "execution_count": 16,
   "id": "1d3e5fa9-bdec-4c68-a5dc-649977ae9d3b",
   "metadata": {},
   "outputs": [],
   "source": [
    "import numpy as np"
   ]
  },
  {
   "cell_type": "code",
   "execution_count": 17,
   "id": "66285126-c78e-4aca-9ec5-5463e37010fe",
   "metadata": {},
   "outputs": [],
   "source": [
    "work_hours = np.random.randint(30, 60, 30)\n",
    "production = np.random.randint(100, 300, 30)"
   ]
  },
  {
   "cell_type": "code",
   "execution_count": 18,
   "id": "94d0230b-ddbf-492e-ae41-6c47cdaf10de",
   "metadata": {},
   "outputs": [
    {
     "name": "stdout",
     "output_type": "stream",
     "text": [
      "correlation : 0.19503541590807089\n"
     ]
    }
   ],
   "source": [
    "correlation = np.corrcoef(work_hours, production)[0, 1]\n",
    "print(\"correlation :\", correlation)"
   ]
  },
  {
   "cell_type": "markdown",
   "id": "0daa46d4-798e-4142-8862-50048a50b995",
   "metadata": {},
   "source": [
    "*If the correlation is close to +1: there is a strong positive relationship. If it is close to 0: there is little to no linear relationship. If it is close to -1: there is a strong negative relationship.*"
   ]
  },
  {
   "cell_type": "markdown",
   "id": "84d6194c-947c-4226-8b75-f4fecd4f4157",
   "metadata": {},
   "source": [
    "## 5. Exam_Scores_Prediction ##"
   ]
  },
  {
   "cell_type": "code",
   "execution_count": 19,
   "id": "d3257e47-927a-4d59-9ad8-3fd12e5fc7cf",
   "metadata": {},
   "outputs": [],
   "source": [
    "import numpy as np\n",
    "import matplotlib.pyplot as plt"
   ]
  },
  {
   "cell_type": "code",
   "execution_count": 20,
   "id": "b7b89bc2-c064-4cf7-a6c0-ccb857c8b6fa",
   "metadata": {},
   "outputs": [],
   "source": [
    "study_hours = np.linspace(0, 8, 100)"
   ]
  },
  {
   "cell_type": "code",
   "execution_count": 21,
   "id": "aa10e436-dd9c-4e18-b08e-b6aaf1bb25cb",
   "metadata": {},
   "outputs": [],
   "source": [
    "exam_scores = 50 + 5 * study_hours"
   ]
  },
  {
   "cell_type": "code",
   "execution_count": 22,
   "id": "5ebfab8c-ff88-4c98-a4c6-1a21eb4bc7a8",
   "metadata": {},
   "outputs": [],
   "source": [
    "mean = np.mean(exam_scores)\n",
    "median = np.median(exam_scores)\n",
    "std = np.std(exam_scores)\n",
    "minimum = np.min(exam_scores)\n",
    "maximum = np.max(exam_scores)"
   ]
  },
  {
   "cell_type": "code",
   "execution_count": 23,
   "id": "a43c75ad-7e34-4a14-bbce-7e6ee50cf8ea",
   "metadata": {},
   "outputs": [
    {
     "name": "stdout",
     "output_type": "stream",
     "text": [
      "mean: 70.0\n",
      "median: 70.0\n",
      "std: 11.66305860514025\n",
      "minimum_exam_score: 50.0\n",
      "maximum_exam_score: 90.0\n",
      "exam_scores: [50.         50.4040404  50.80808081 51.21212121 51.61616162 52.02020202\n",
      " 52.42424242 52.82828283 53.23232323 53.63636364 54.04040404 54.44444444\n",
      " 54.84848485 55.25252525 55.65656566 56.06060606 56.46464646 56.86868687\n",
      " 57.27272727 57.67676768 58.08080808 58.48484848 58.88888889 59.29292929\n",
      " 59.6969697  60.1010101  60.50505051 60.90909091 61.31313131 61.71717172\n",
      " 62.12121212 62.52525253 62.92929293 63.33333333 63.73737374 64.14141414\n",
      " 64.54545455 64.94949495 65.35353535 65.75757576 66.16161616 66.56565657\n",
      " 66.96969697 67.37373737 67.77777778 68.18181818 68.58585859 68.98989899\n",
      " 69.39393939 69.7979798  70.2020202  70.60606061 71.01010101 71.41414141\n",
      " 71.81818182 72.22222222 72.62626263 73.03030303 73.43434343 73.83838384\n",
      " 74.24242424 74.64646465 75.05050505 75.45454545 75.85858586 76.26262626\n",
      " 76.66666667 77.07070707 77.47474747 77.87878788 78.28282828 78.68686869\n",
      " 79.09090909 79.49494949 79.8989899  80.3030303  80.70707071 81.11111111\n",
      " 81.51515152 81.91919192 82.32323232 82.72727273 83.13131313 83.53535354\n",
      " 83.93939394 84.34343434 84.74747475 85.15151515 85.55555556 85.95959596\n",
      " 86.36363636 86.76767677 87.17171717 87.57575758 87.97979798 88.38383838\n",
      " 88.78787879 89.19191919 89.5959596  90.        ]\n"
     ]
    }
   ],
   "source": [
    "print(\"mean:\", mean)\n",
    "print(\"median:\", median)\n",
    "print(\"std:\", std)\n",
    "print(\"minimum_exam_score:\", minimum)\n",
    "print(\"maximum_exam_score:\", maximum)\n",
    "print(\"exam_scores:\", exam_scores)"
   ]
  },
  {
   "cell_type": "code",
   "execution_count": 24,
   "id": "58fc4d4a-32c7-4289-a4c0-59661ea9ab35",
   "metadata": {},
   "outputs": [
    {
     "data": {
      "image/png": "[encoded data removed]",
      "text/plain": [
       "<Figure size 640x480 with 1 Axes>"
      ]
     },
     "metadata": {},
     "output_type": "display_data"
    }
   ],
   "source": [
    "plt.plot(study_hours, exam_scores)\n",
    "plt.xlabel(\"Study Hours\")\n",
    "plt.ylabel(\"Exam Score\")\n",
    "plt.title(\"Relationship Between Study Time and Exam Score\")\n",
    "plt.grid(True)\n",
    "plt.show()"
   ]
  },
  {
   "cell_type": "markdown",
   "id": "294f6978-39f7-4735-8d55-c3cdd2634317",
   "metadata": {},
   "source": [
    " *in this example, since the scores increase uniformly and linearly from 50 to 90, the mean and median are equal and lie in the middle of the range. The mode is not required here because the data points are continuous and unique. A dispersion measure like the standard deviation indicates how far the scores spread from the mean, and here, due to the regular distribution, the spread is moderate and even. In linear distributions, if the standard deviation is less than half of the data range (20 in this case), the spread is generally considered moderate. Additionally, the minimum and maximum scores define the range of variation, from 50 to 90.*"
   ]
  }
 ],
 "metadata": {
  "kernelspec": {
   "display_name": "Python 3 (ipykernel)",
   "language": "python",
   "name": "python3"
  },
  "language_info": {
   "codemirror_mode": {
    "name": "ipython",
    "version": 3
   },
   "file_extension": ".py",
   "mimetype": "text/x-python",
   "name": "python",
   "nbconvert_exporter": "python",
   "pygments_lexer": "ipython3",
   "version": "3.13.2"
  }
 },
 "nbformat": 4,
 "nbformat_minor": 5
}
